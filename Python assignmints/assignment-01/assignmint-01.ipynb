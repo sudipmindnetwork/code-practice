{
 "cells": [
  {
   "cell_type": "markdown",
   "metadata": {},
   "source": [
    "Assignmint 1"
   ]
  },
  {
   "cell_type": "code",
   "execution_count": 4,
   "metadata": {},
   "outputs": [
    {
     "name": "stdout",
     "output_type": "stream",
     "text": [
      "sudip\n"
     ]
    }
   ],
   "source": [
    "s=input(\"Enter your name: \")\n",
    "print(s)"
   ]
  },
  {
   "cell_type": "code",
   "execution_count": 3,
   "metadata": {},
   "outputs": [
    {
     "name": "stdout",
     "output_type": "stream",
     "text": [
      "The sum of two number is:8\n"
     ]
    }
   ],
   "source": [
    "#add 2 numbers\n",
    "a= int(input(\"Enter your first number: \"))\n",
    "b= int(input(\"Enter your secound number: \"))\n",
    "print(f\"The sum of two number is:{a+b}\")"
   ]
  },
  {
   "cell_type": "code",
   "execution_count": null,
   "metadata": {},
   "outputs": [
    {
     "name": "stdout",
     "output_type": "stream",
     "text": [
      "32.0degrees celsius is equal to 89.6 degree fahrenheit\n"
     ]
    }
   ],
   "source": [
    "#celsius to Fahrenheit\n",
    "c= float(input(\"Enter temperature in celsius\"))\n",
    "f=(c*(9.0/5.0))+32\n",
    "print(f\"{c}degrees celsius is equal to {f} degree fahrenheit\")"
   ]
  },
  {
   "cell_type": "code",
   "execution_count": null,
   "metadata": {},
   "outputs": [
    {
     "name": "stdout",
     "output_type": "stream",
     "text": [
      "area of the rectangle is 500.0\n",
      "perimeter of the rectangle is 90.0\n"
     ]
    }
   ],
   "source": [
    "# area and perimeter of a rectangle.\n",
    "l=float(input(\"Enter the Length: \"))\n",
    "w=float(input(\"Enter the width: \"))\n",
    "a= l*w\n",
    "p=2*(l+w)\n",
    "print(f\"area of the rectangle is {a}\")\n",
    "print(f\"perimeter of the rectangle is {p}\")"
   ]
  },
  {
   "cell_type": "code",
   "execution_count": null,
   "metadata": {},
   "outputs": [
    {
     "name": "stdout",
     "output_type": "stream",
     "text": [
      "Area of the circle is 1256.0\n",
      "perimeter of the circle is 125.60000000000001\n"
     ]
    }
   ],
   "source": [
    "#area and perimeter of a circle. \n",
    "r= float(input(\"Enter the radius of the circle: \"))\n",
    "a=3.14*r*r\n",
    "p=2*3.14*r\n",
    "print(f\"Area of the circle is {a}\")\n",
    "print(f\"perimeter of the circle is {p}\")"
   ]
  },
  {
   "cell_type": "code",
   "execution_count": null,
   "metadata": {},
   "outputs": [
    {
     "name": "stdout",
     "output_type": "stream",
     "text": [
      "Your number is Odd\n"
     ]
    }
   ],
   "source": [
    "#number is odd or even.\n",
    "n=int(input(\"Enter a number: \"))\n",
    "if n%2 == 0:\n",
    "    print(\"Your number is Even\")\n",
    "else:\n",
    "    print(\"Your number is Odd\")"
   ]
  },
  {
   "cell_type": "code",
   "execution_count": null,
   "metadata": {},
   "outputs": [
    {
     "name": "stdout",
     "output_type": "stream",
     "text": [
      "Your number is Negative\n"
     ]
    }
   ],
   "source": [
    "#number is Positive or Negative.\n",
    "n= int(input(\"Enter your number: \"))\n",
    "if n>0:\n",
    "    print(\"Your number is Positive\")\n",
    "elif n ==0:\n",
    "    print(\"Your number is Zero\")\n",
    "else:\n",
    "    print(\"Your number is Negative\")\n"
   ]
  },
  {
   "cell_type": "code",
   "execution_count": null,
   "metadata": {},
   "outputs": [
    {
     "name": "stdout",
     "output_type": "stream",
     "text": [
      "c=20 is gretest from another numbers\n"
     ]
    }
   ],
   "source": [
    "#maximum of three numbers. \n",
    "a= int(input(\"Enter Your 1st number: \"))\n",
    "b= int(input(\"Enter Your 2nd number: \"))\n",
    "c= int(input(\"Enter Your 3rd number: \"))\n",
    "if a>b and a>c:\n",
    "    print(f\"a={a} is gretest from another numbers\")\n",
    "elif a<b and b>c:\n",
    "    print(f\"b={b} is gretest from another numbers\")\n",
    "else:\n",
    "    print(f\"c={c} is gretest from another numbers\")"
   ]
  },
  {
   "cell_type": "code",
   "execution_count": null,
   "metadata": {},
   "outputs": [
    {
     "name": "stdout",
     "output_type": "stream",
     "text": [
      "100 miles is equal to 160.9 kilometers\n"
     ]
    }
   ],
   "source": [
    "#convert miles to kilometers.\n",
    "m= int(input(\"Enter destence in Miles: \"))\n",
    "k= m*1.609\n",
    "print(f\"{m} miles is equal to {k} kilometers\")"
   ]
  },
  {
   "cell_type": "code",
   "execution_count": null,
   "metadata": {},
   "outputs": [
    {
     "name": "stdout",
     "output_type": "stream",
     "text": [
      "gread D\n"
     ]
    }
   ],
   "source": [
    "#Percentage>=90%  :  Grade A \n",
    "#Percentage>=80%   :  Grade B \n",
    "#Percentage>=70%   :  Grade C \n",
    "#Percentage>=60%   :  Grade D \n",
    "#Percentage>=40%   :  Grade E \n",
    "#Percentage<40%    :  Grade F \n",
    "t=int(input(\"Enter your total mark of exam: \"))\n",
    "m=int(input(\"Enter your mark: \"))\n",
    "p=(m/t)*100.0\n",
    "if p>=90:\n",
    "    print(\"gread A\")\n",
    "elif p>=80:\n",
    "    print(\"gread B\")\n",
    "elif p>=70:\n",
    "    print(\"gread C\")\n",
    "elif p>=60:\n",
    "    print(\"gread D\")\n",
    "elif p>=40:\n",
    "    print(\"gread E\")\n",
    "else:\n",
    "    print(\"gread F\")\n"
   ]
  }
 ],
 "metadata": {
  "kernelspec": {
   "display_name": "Python 3",
   "language": "python",
   "name": "python3"
  },
  "language_info": {
   "codemirror_mode": {
    "name": "ipython",
    "version": 3
   },
   "file_extension": ".py",
   "mimetype": "text/x-python",
   "name": "python",
   "nbconvert_exporter": "python",
   "pygments_lexer": "ipython3",
   "version": "3.12.4"
  }
 },
 "nbformat": 4,
 "nbformat_minor": 2
}
