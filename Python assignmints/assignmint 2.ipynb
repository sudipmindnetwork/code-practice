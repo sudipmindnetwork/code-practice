{
 "cells": [
  {
   "cell_type": "markdown",
   "metadata": {},
   "source": [
    "Assignmint 2"
   ]
  },
  {
   "cell_type": "markdown",
   "metadata": {},
   "source": [
    " Write a program to check whether a number is divisible by 5 or not. "
   ]
  },
  {
   "cell_type": "code",
   "execution_count": 1,
   "metadata": {},
   "outputs": [
    {
     "name": "stdout",
     "output_type": "stream",
     "text": [
      "Your number is divisible by 5 \n"
     ]
    }
   ],
   "source": [
    "#number is divisible by 5 or not. \n",
    "n= int(input(\"Enter your Number: \"))\n",
    "if n % 5 == 0:\n",
    "    print(\"Your number is divisible by 5 \")\n",
    "else:\n",
    "    print(\"Your number is not divisible by 5\")"
   ]
  },
  {
   "cell_type": "markdown",
   "metadata": {},
   "source": [
    "Write a program to check whether a number is Buzz or not."
   ]
  },
  {
   "cell_type": "code",
   "execution_count": 2,
   "metadata": {},
   "outputs": [
    {
     "name": "stdout",
     "output_type": "stream",
     "text": [
      "Your number is an buzz number\n"
     ]
    }
   ],
   "source": [
    "#number is Buzz or not.\n",
    "#ends with 7 or divisible by 7\n",
    "n= int(input(\"Enter your number: \"))\n",
    "if n % 7 ==0 or n % 10 == 7:\n",
    "    print(\"Your number is an buzz number\")\n",
    "else:\n",
    "    print(\"Your number is not an buzz number \")"
   ]
  },
  {
   "cell_type": "markdown",
   "metadata": {},
   "source": [
    "Write a program to calculate factorial of 12. "
   ]
  },
  {
   "cell_type": "code",
   "execution_count": 3,
   "metadata": {},
   "outputs": [
    {
     "name": "stdout",
     "output_type": "stream",
     "text": [
      "The factorial of 12 is 479001600\n"
     ]
    }
   ],
   "source": [
    "##calculate factorial of 12.\n",
    "result=1\n",
    "for i in range(2,12+1):\n",
    "    result*=i\n",
    "print(f\"The factorial of 12 is {result}\")"
   ]
  },
  {
   "cell_type": "markdown",
   "metadata": {},
   "source": [
    "Write a program for Fibonacci series. "
   ]
  },
  {
   "cell_type": "code",
   "execution_count": 4,
   "metadata": {},
   "outputs": [
    {
     "name": "stdout",
     "output_type": "stream",
     "text": [
      "0\n",
      "1\n",
      "2\n",
      "4\n",
      "8\n"
     ]
    }
   ],
   "source": [
    "# Fibonacci series. \n",
    "n= int(input(\"Enter a numbr: \"))\n",
    "a=0\n",
    "b=1\n",
    "while a<n:\n",
    "    print(a)\n",
    "    a=b\n",
    "    b=a+b"
   ]
  },
  {
   "cell_type": "markdown",
   "metadata": {},
   "source": [
    "Admission to a professional course is subject to the following conditions: \n",
    "  (a)  marks in Mathematics >= 60  (b)  marks in Physics          >=50 \n",
    "  (c)  marks in Chemistry      >=40  (d) Total in all 3 subjects    >=200 \n",
    "            (Or) \n",
    "            Total in Maths & Physics>=150 \n",
    "Given the marks in the 3 subjects of n (user input) students, write a program to process \n",
    "the applications to list the eligible candidates. "
   ]
  },
  {
   "cell_type": "code",
   "execution_count": 5,
   "metadata": {},
   "outputs": [
    {
     "name": "stdout",
     "output_type": "stream",
     "text": [
      "You can not Addmission to a professional course\n"
     ]
    }
   ],
   "source": [
    "m=int(input(\"Enter your mark of Math: \"))\n",
    "p=int(input(\"Enter your mark of physics: \"))\n",
    "c=int(input(\"Enter your mark of Chemistry: \"))\n",
    "if m>=60:\n",
    "    if p>=50:\n",
    "        if c>=40:\n",
    "            if m+p+c>=200 or m+p>=150:\n",
    "                print(\"You can Addmission to a professional course\")\n",
    "            else:\n",
    "                print(\"You can not Addmission to a professional course\")\n",
    "        else:\n",
    "            print(\"You can not Addmission to a professional course\")\n",
    "    else:\n",
    "        print(\"You can not Addmission to a professional course\")\n",
    "else:\n",
    "    print(\"You can not Addmission to a professional course\")"
   ]
  },
  {
   "cell_type": "markdown",
   "metadata": {},
   "source": [
    "Write a program to find all roots of a quadratic equation. "
   ]
  },
  {
   "cell_type": "code",
   "execution_count": 2,
   "metadata": {},
   "outputs": [
    {
     "name": "stdout",
     "output_type": "stream",
     "text": [
      "root1= 0.4489578808281798 and root2= -1.9489578808281798\n"
     ]
    }
   ],
   "source": [
    "import math\n",
    "a=int(input(f\"a= \"))\n",
    "b=int(input(f\"b= \"))\n",
    "c=int(input(f\"c= \"))\n",
    "dis= b**2 - 4*a*c\n",
    "if dis > 0:\n",
    "        root1 = (-b + math.sqrt(dis)) / (2*a)\n",
    "        root2 = (-b - math.sqrt(dis)) / (2*a)\n",
    "        print(f\"root1={root1} and root2={root2}\")\n",
    "elif dis == 0:\n",
    "        root = -b / (2*a)\n",
    "        print(f\"root= {root}\")\n",
    "else:\n",
    "        real = -b / (2*a)\n",
    "        imaginary = math.sqrt(-dis) / (2*a)\n",
    "        print (f\"root1= {real + imaginary} and root2= { real - imaginary}\")\n"
   ]
  },
  {
   "cell_type": "markdown",
   "metadata": {},
   "source": [
    "Write a program to calculate the sum of natural numbers up to a certain range. "
   ]
  },
  {
   "cell_type": "code",
   "execution_count": 10,
   "metadata": {},
   "outputs": [
    {
     "name": "stdout",
     "output_type": "stream",
     "text": [
      "55\n"
     ]
    }
   ],
   "source": [
    "n= int(input(\"Enter a number: \"))\n",
    "sum=0\n",
    "for i in range(1,n+1):\n",
    "    sum+=i\n",
    "print(sum)"
   ]
  },
  {
   "cell_type": "markdown",
   "metadata": {},
   "source": [
    "Write a program to print all multiple of 10 between a given interval."
   ]
  },
  {
   "cell_type": "code",
   "execution_count": 11,
   "metadata": {},
   "outputs": [
    {
     "name": "stdout",
     "output_type": "stream",
     "text": [
      "10 20 30 40 50 60 70 80 90 100 "
     ]
    }
   ],
   "source": [
    "s= int(input(\"Enter your start interval: \"))\n",
    "e= int(input(\"Enter your end interval: \"))\n",
    "for i in range(s,e+1):\n",
    "    if i%10 == 0:\n",
    "        print(i, end=\" \")"
   ]
  },
  {
   "cell_type": "markdown",
   "metadata": {},
   "source": [
    "Write a program to generate multiplication table."
   ]
  },
  {
   "cell_type": "code",
   "execution_count": 13,
   "metadata": {},
   "outputs": [
    {
     "name": "stdout",
     "output_type": "stream",
     "text": [
      "4x1=4 , 4x2=8 , 4x3=12 , 4x4=16 , 4x5=20 , 4x6=24 , 4x7=28 , 4x8=32 , 4x9=36 , 4x10=40 , "
     ]
    }
   ],
   "source": [
    "n= int(input(\"enter a number : \"))\n",
    "for i in range(1,11):\n",
    "    print(f\"{n}x{i}={n*i}\",end=\" , \")"
   ]
  },
  {
   "cell_type": "markdown",
   "metadata": {},
   "source": [
    " Write a program to find HCF of two Numbers. "
   ]
  },
  {
   "cell_type": "code",
   "execution_count": 15,
   "metadata": {},
   "outputs": [
    {
     "name": "stdout",
     "output_type": "stream",
     "text": [
      "The HCF of the two numbers is: 5\n"
     ]
    }
   ],
   "source": [
    "num1 = int(input(\"Enter the first number: \"))\n",
    "num2 = int(input(\"Enter the second number: \"))\n",
    "if num2 > num1:\n",
    "    num1, num2 = num2, num1\n",
    "while num2:\n",
    "    remainder = num1 % num2\n",
    "    num1 = num2\n",
    "    num2 = remainder\n",
    "print(f\"The HCF of the two numbers is: {num1}\")"
   ]
  },
  {
   "cell_type": "markdown",
   "metadata": {},
   "source": [
    "To find the sum of square root of any three numbers."
   ]
  },
  {
   "cell_type": "code",
   "execution_count": 1,
   "metadata": {},
   "outputs": [
    {
     "name": "stdout",
     "output_type": "stream",
     "text": [
      "sum of the squre root of the numbers are: 9.0\n"
     ]
    }
   ],
   "source": [
    "a=int(input(\"Enter the first number: \"))\n",
    "b=int(input(\"Enter the secound number: \"))\n",
    "c=int(input(\"Enter the third number: \"))\n",
    "sqrt1=a**0.5\n",
    "sqrt2=b**0.5\n",
    "sqrt3=c**0.5\n",
    "print(f\"sum of the squre root of the numbers are: {sqrt1+sqrt2+sqrt3}\")"
   ]
  },
  {
   "cell_type": "markdown",
   "metadata": {},
   "source": [
    "Compute a)5 to the power of 8 b)square root of 400 c)exponent of 5 d)Logarithm of 625\n",
    "base 5"
   ]
  },
  {
   "cell_type": "code",
   "execution_count": 2,
   "metadata": {},
   "outputs": [
    {
     "name": "stdout",
     "output_type": "stream",
     "text": [
      "5 to the power of 8: 390625\n",
      "squre root of 400: 20.0\n",
      "exponent of 5: 148.4131591025766\n",
      "logarithm of 625 base 5: 4.0\n"
     ]
    }
   ],
   "source": [
    "import math\n",
    "power_result = 5 ** 8\n",
    "sqrt_result = math.sqrt(400)\n",
    "exp_result = math.exp(5)\n",
    "log_result = math.log(625, 5)\n",
    "print(f\"5 to the power of 8: {power_result}\")\n",
    "print(f\"squre root of 400: {sqrt_result}\")\n",
    "print(f\"exponent of 5: {exp_result}\")\n",
    "print(f\"logarithm of 625 base 5: {log_result}\")\n",
    "\n"
   ]
  },
  {
   "cell_type": "markdown",
   "metadata": {},
   "source": [
    "Compute a)sin of 60 degree b)cos of pi c)sin(0.8660254037844386) d)tan of 90 degree"
   ]
  },
  {
   "cell_type": "code",
   "execution_count": 4,
   "metadata": {},
   "outputs": [
    {
     "name": "stdout",
     "output_type": "stream",
     "text": [
      "sin of 60 degree: 0.8660254037844386\n",
      "cos of pi: -1.0\n",
      "sin(0.8660254037844386): 0.7617599814162892\n",
      "tan of 90 degree: 1.633123935319537e+16\n"
     ]
    }
   ],
   "source": [
    "import math\n",
    "sin_60 = math.sin(math.radians(60))\n",
    "cos_pi = math.cos(math.pi)\n",
    "sin_value = math.sin(0.8660254037844386)\n",
    "tan_90 = math.tan(math.radians(90))\n",
    "print(f\"sin of 60 degree: {sin_60}\")\n",
    "print(f\"cos of pi: {cos_pi}\")\n",
    "print(f\"sin(0.8660254037844386): {sin_value}\")\n",
    "print(f\"tan of 90 degree: {tan_90}\")"
   ]
  },
  {
   "cell_type": "markdown",
   "metadata": {},
   "source": [
    "Define a sum function with two parameters and call the function"
   ]
  },
  {
   "cell_type": "code",
   "execution_count": 6,
   "metadata": {},
   "outputs": [
    {
     "name": "stdout",
     "output_type": "stream",
     "text": [
      "22\n"
     ]
    }
   ],
   "source": [
    "def sum_function(a, b):\n",
    "    return a + b\n",
    "x=int(input(\"Enter a number: \"))\n",
    "y=int(input(\"Enter a number: \"))\n",
    "result = sum_function(x, y)\n",
    "print(result)"
   ]
  },
  {
   "cell_type": "markdown",
   "metadata": {},
   "source": [
    "WAP to reverse a given string."
   ]
  },
  {
   "cell_type": "code",
   "execution_count": 7,
   "metadata": {},
   "outputs": [
    {
     "name": "stdout",
     "output_type": "stream",
     "text": [
      "Original string: hello\n",
      "Reversed string: olleh\n"
     ]
    }
   ],
   "source": [
    "original_string =input(\"Enter your string: \")\n",
    "reversed_string = original_string[::-1]\n",
    "print(\"Original string:\", original_string)\n",
    "print(\"Reversed string:\", reversed_string)\n"
   ]
  },
  {
   "cell_type": "markdown",
   "metadata": {},
   "source": [
    "Write a function to calculate the power of a number using recursion"
   ]
  },
  {
   "cell_type": "code",
   "execution_count": 8,
   "metadata": {},
   "outputs": [
    {
     "name": "stdout",
     "output_type": "stream",
     "text": [
      "2 to the power of 4 is 16\n"
     ]
    }
   ],
   "source": [
    "def power(base, exponent):\n",
    "    if exponent == 0:\n",
    "        return 1\n",
    "    else:\n",
    "        return base * power(base, exponent - 1)\n",
    "base =int(input(\"Enter a number: \"))\n",
    "exponent =int(input(\"Enter a number: \"))\n",
    "result = power(base, exponent)\n",
    "print(f\"{base} to the power of {exponent} is {result}\")\n"
   ]
  },
  {
   "cell_type": "markdown",
   "metadata": {},
   "source": [
    "Convert Decimal number to Binary"
   ]
  },
  {
   "cell_type": "code",
   "execution_count": 9,
   "metadata": {},
   "outputs": [
    {
     "name": "stdout",
     "output_type": "stream",
     "text": [
      "The binary representation of 20 is 10100\n"
     ]
    }
   ],
   "source": [
    "decimal_number =int(input(\"Enter a number: \"))\n",
    "if decimal_number == 0:\n",
    "    binary_representation = \"0\"\n",
    "else:\n",
    "    binary_representation = \"\"\n",
    "    number = decimal_number\n",
    "    while number > 0:\n",
    "        remainder = number % 2\n",
    "        binary_representation = str(remainder) + binary_representation\n",
    "        number = number // 2\n",
    "print(f\"The binary representation of {decimal_number} is {binary_representation}\")\n"
   ]
  },
  {
   "cell_type": "markdown",
   "metadata": {},
   "source": [
    "Write a program in Python to check if a number is Krishnamurthy number."
   ]
  },
  {
   "cell_type": "code",
   "execution_count": 10,
   "metadata": {},
   "outputs": [
    {
     "name": "stdout",
     "output_type": "stream",
     "text": [
      "121 is not a Krishnamurthy number.\n"
     ]
    }
   ],
   "source": [
    "import math\n",
    "n = int(input(\"Enter a number: \"))\n",
    "digits = str(n)\n",
    "sum_of_factorials = 0\n",
    "for digit in digits:\n",
    "    sum_of_factorials += math.factorial(int(digit))\n",
    "if sum_of_factorials == n:\n",
    "    print(f\"{n} is a Krishnamurthy number.\")\n",
    "else:\n",
    "    print(f\"{n} is not a Krishnamurthy number.\")\n"
   ]
  },
  {
   "cell_type": "code",
   "execution_count": 11,
   "metadata": {},
   "outputs": [
    {
     "name": "stdout",
     "output_type": "stream",
     "text": [
      "The sum of the digits is: 6\n"
     ]
    }
   ],
   "source": [
    "\n",
    "n = int(input(\"Enter a number: \"))\n",
    "sum_of_digits = 0\n",
    "while n > 0:\n",
    "    digit = n % 10\n",
    "    sum_of_digits += digit\n",
    "    n //= 10\n",
    "print(f\"The sum of the digits is: {sum_of_digits}\")\n"
   ]
  },
  {
   "cell_type": "markdown",
   "metadata": {},
   "source": [
    "Write a program in Python that prompts the user to input a number and prints its\n",
    "multiplication table."
   ]
  },
  {
   "cell_type": "code",
   "execution_count": 12,
   "metadata": {},
   "outputs": [
    {
     "name": "stdout",
     "output_type": "stream",
     "text": [
      "Multiplication table for 5:\n",
      "5 x 1 = 5\n",
      "5 x 2 = 10\n",
      "5 x 3 = 15\n",
      "5 x 4 = 20\n",
      "5 x 5 = 25\n",
      "5 x 6 = 30\n",
      "5 x 7 = 35\n",
      "5 x 8 = 40\n",
      "5 x 9 = 45\n",
      "5 x 10 = 50\n"
     ]
    }
   ],
   "source": [
    "number = int(input(\"Enter a number: \"))\n",
    "print(f\"Multiplication table for {number}:\")\n",
    "for i in range(1, 11):\n",
    "    print(f\"{number} x {i} = {number * i}\")\n"
   ]
  },
  {
   "cell_type": "markdown",
   "metadata": {},
   "source": [
    "Write a Python program to print the first 6 terms of a geometric sequence starting with 2\n",
    "and having a common ratio of 3."
   ]
  },
  {
   "cell_type": "code",
   "execution_count": 13,
   "metadata": {},
   "outputs": [
    {
     "name": "stdout",
     "output_type": "stream",
     "text": [
      "Geometric sequence:\n",
      "2\n",
      "6\n",
      "18\n",
      "54\n",
      "162\n",
      "486\n"
     ]
    }
   ],
   "source": [
    "\n",
    "first_term = 2\n",
    "common_ratio = 3\n",
    "num_terms = 6\n",
    "print(\"Geometric sequence:\")\n",
    "term = first_term\n",
    "for i in range(num_terms):\n",
    "    print(term)\n",
    "    term *= common_ratio\n"
   ]
  },
  {
   "cell_type": "markdown",
   "metadata": {},
   "source": [
    "Print the series upto N terms: 1,2,6,24,120,720 …"
   ]
  },
  {
   "cell_type": "code",
   "execution_count": 14,
   "metadata": {},
   "outputs": [
    {
     "name": "stdout",
     "output_type": "stream",
     "text": [
      "Series:\n",
      "1\n",
      "2\n",
      "6\n",
      "24\n",
      "120\n"
     ]
    }
   ],
   "source": [
    "import math\n",
    "N = int(input(\"Enter the number of terms: \"))\n",
    "print(\"Series:\")\n",
    "for i in range(1, N + 1):\n",
    "    factorial = math.factorial(i)\n",
    "    print(factorial)\n"
   ]
  },
  {
   "cell_type": "markdown",
   "metadata": {},
   "source": [
    "Write a Python program that prompts the user to enter a base number and an exponent,\n",
    "and then calculates the power of the base to the exponent. The program should not use the\n",
    "exponentiation operator (**) or the math.pow() function."
   ]
  },
  {
   "cell_type": "code",
   "execution_count": 15,
   "metadata": {},
   "outputs": [
    {
     "name": "stdout",
     "output_type": "stream",
     "text": [
      "4 to the power of 5 is 1024\n"
     ]
    }
   ],
   "source": [
    "\n",
    "base = int(input(\"Enter the base number: \"))\n",
    "exponent = int(input(\"Enter the exponent: \"))\n",
    "result = 1\n",
    "for _ in range(exponent):\n",
    "    result *= base\n",
    "print(f\"{base} to the power of {exponent} is {result}\")\n"
   ]
  },
  {
   "cell_type": "markdown",
   "metadata": {},
   "source": [
    " Write a program to find LCM of two Numbers. "
   ]
  },
  {
   "cell_type": "code",
   "execution_count": 16,
   "metadata": {},
   "outputs": [
    {
     "name": "stdout",
     "output_type": "stream",
     "text": [
      "The LCM of 25 and 12 is 300\n"
     ]
    }
   ],
   "source": [
    "\n",
    "def gcd(a, b):\n",
    "    while b != 0:\n",
    "        a, b = b, a % b\n",
    "    return a\n",
    "num1 = int(input(\"Enter the first number: \"))\n",
    "num2 = int(input(\"Enter the second number: \"))\n",
    "gcd_value = gcd(num1, num2)\n",
    "lcm = abs(num1 * num2) // gcd_value\n",
    "print(f\"The LCM of {num1} and {num2} is {lcm}\")\n"
   ]
  },
  {
   "cell_type": "markdown",
   "metadata": {},
   "source": [
    "Write a program to count the number of digits of an integer. "
   ]
  },
  {
   "cell_type": "code",
   "execution_count": 17,
   "metadata": {},
   "outputs": [
    {
     "name": "stdout",
     "output_type": "stream",
     "text": [
      "The number of digits in 25 is 2\n"
     ]
    }
   ],
   "source": [
    "\n",
    "num = int(input(\"Enter an integer: \"))\n",
    "num_of_digits = len(str(abs(num)))\n",
    "print(f\"The number of digits in {num} is {num_of_digits}\")\n"
   ]
  }
 ],
 "metadata": {
  "kernelspec": {
   "display_name": "Python 3",
   "language": "python",
   "name": "python3"
  },
  "language_info": {
   "codemirror_mode": {
    "name": "ipython",
    "version": 3
   },
   "file_extension": ".py",
   "mimetype": "text/x-python",
   "name": "python",
   "nbconvert_exporter": "python",
   "pygments_lexer": "ipython3",
   "version": "3.12.4"
  }
 },
 "nbformat": 4,
 "nbformat_minor": 2
}
